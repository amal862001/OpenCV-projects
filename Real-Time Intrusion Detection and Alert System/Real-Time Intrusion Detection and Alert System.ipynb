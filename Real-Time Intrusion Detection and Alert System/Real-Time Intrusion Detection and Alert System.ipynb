{
 "cells": [
  {
   "cell_type": "code",
   "execution_count": 1,
   "metadata": {},
   "outputs": [],
   "source": [
    "import numpy as np\n",
    "import cv2\n",
    "import os\n",
    "import logging\n",
    "from twilio.rest import Client\n",
    "from datetime import datetime"
   ]
  },
  {
   "cell_type": "code",
   "execution_count": 2,
   "metadata": {},
   "outputs": [
    {
     "name": "stdout",
     "output_type": "stream",
     "text": [
      "Training completed and model saved.\n"
     ]
    }
   ],
   "source": [
    "# Define face cascade\n",
    "face_cascade = cv2.CascadeClassifier('haarcascade_frontalface_alt.xml')\n",
    "eye_cascade = cv2.CascadeClassifier('haarcascade_eye.xml')\n",
    "\n",
    "# Creating a function to detect faces\n",
    "def detect_face(img_array_gray):\n",
    "    faces = face_cascade.detectMultiScale(img_array_gray,scaleFactor=1.1, minNeighbors=5)\n",
    "    for (W, H, w, h) in faces:\n",
    "        face_array = img_array_gray[H:H+h, W:W+w]\n",
    "        eyes = eye_cascade.detectMultiScale(face_array)\n",
    "        if len(eyes) >= 2:   # Ensure at least two eyes are detected\n",
    "            return face_array, (W, H, w, h)\n",
    "    return None, None\n",
    "\n",
    "\n",
    "# Creating a function to draw rectangle\n",
    "def draw_rectangle(frame, W, H, w, h, thickness=2):\n",
    "    cv2.rectangle(frame, (W, H), (W+w, H+h), (255, 255, 255), thickness)\n",
    "    return frame\n",
    "\n",
    "# Create a function to put text on the detected image\n",
    "def put_text(frame, text, W, H, col=(0,255,0), scale=2):\n",
    "    cv2.putText(frame, text, (W, H), cv2.FONT_HERSHEY_COMPLEX, scale, col, 2)\n",
    "    return frame\n",
    "\n",
    "main_path = r'C:\\Users\\RONO\\Desktop\\Open_cv_final\\data'\n",
    "names = os.listdir(main_path)\n",
    "train_img = []\n",
    "label = []\n",
    "rectangle = []\n",
    "\n",
    "# Create a dictionary to map label names to integers\n",
    "label_dict = {name: idx for idx, name in enumerate(names)}\n",
    "\n",
    "for name in names:\n",
    "    name_path = os.path.join(main_path, name)\n",
    "    img_names = os.listdir(name_path)\n",
    "    for img in img_names:\n",
    "        img_path = os.path.join(name_path, img)\n",
    "        gray = cv2.imread(img_path, 0)\n",
    "        face_array, position = detect_face(gray)\n",
    "        if face_array is not None:\n",
    "            train_img.append(face_array)\n",
    "            label.append(label_dict[name])  # Append integer label\n",
    "            rectangle.append(position)\n",
    "\n",
    "# Convert labels to numpy array of type int32\n",
    "labels = np.array(label, dtype=np.int32)\n",
    "\n",
    "# Initializing Recognizer\n",
    "recognizer = cv2.face.LBPHFaceRecognizer_create()\n",
    "\n",
    "# Train recognizer\n",
    "recognizer.train(train_img, labels)\n",
    "\n",
    "# Save the trained model\n",
    "recognizer.save('face_recognizer_model.yml')\n",
    "\n",
    "print(\"Training completed and model saved.\")\n"
   ]
  },
  {
   "cell_type": "code",
   "execution_count": 3,
   "metadata": {},
   "outputs": [],
   "source": [
    "def predict_array_image(gray_img):\n",
    "    frame, rect = detect_face(gray_img)\n",
    "    if frame is not None:\n",
    "        label, conf = recognizer.predict(frame)\n",
    "        return label, conf, rect\n",
    "    else:\n",
    "        return None, None, None"
   ]
  },
  {
   "cell_type": "code",
   "execution_count": 4,
   "metadata": {},
   "outputs": [],
   "source": [
    "# Creating a function to send alert sms\n",
    "\n",
    "def send_sms_alert():\n",
    "    account_sid = 'enter your account sid'\n",
    "    auth_token = 'enter your auth token'\n",
    "    client = Client(account_sid, auth_token)\n",
    "\n",
    "    message = client.messages.create(\n",
    "        body=\"Security Alert: Unauthorized Access Detected\",\n",
    "        from_='enter your twilio number', \n",
    "        to='enter your phone number' \n",
    "    )\n",
    "    logging.info(f\"SMS sent successfully: {message.sid}\")"
   ]
  },
  {
   "cell_type": "code",
   "execution_count": 7,
   "metadata": {},
   "outputs": [],
   "source": [
    "recognizer.read('face_recognizer_model.yml')\n",
    "\n",
    "cap = cv2.VideoCapture(0)\n",
    "while True:\n",
    "    ret,frame = cap.read()\n",
    "    gray_img = cv2.cvtColor(frame,cv2.COLOR_BGR2GRAY)\n",
    "    label,conf,rect = predict_array_image(gray_img)\n",
    "    if rect is not None:\n",
    "        c=0\n",
    "        W,H,w,h = rect\n",
    "        if conf < 55:\n",
    "            name = names[label]\n",
    "            draw_rectangle(frame,W,H,w,h)\n",
    "            put_text(frame, name, W, H)\n",
    "        else:\n",
    "            put_text(frame, \"Unknown\", W, H, col=(0, 0, 255))\n",
    "            draw_rectangle(frame,W,H,w,h)\n",
    "            timestamp = datetime.now().strftime('%Y%m%d_%H%M%S')\n",
    "            image_path = f\"unknown_{timestamp}.jpg\"\n",
    "            cv2.imwrite(image_path, frame)\n",
    "            send_sms_alert()                   # Send SMS alert for unauthorized access\n",
    "            logging.info(f\"Unauthorized access detected at {timestamp}\")\n",
    "            \n",
    "        while c<=20:\n",
    "            c+=1\n",
    "    cv2.imshow('frame',frame)\n",
    "    if cv2.waitKey(100) == ord('k'):\n",
    "        break\n",
    "cv2.destroyAllWindows()\n",
    "cap.release()"
   ]
  },
  {
   "cell_type": "code",
   "execution_count": null,
   "metadata": {},
   "outputs": [],
   "source": []
  }
 ],
 "metadata": {
  "kernelspec": {
   "display_name": "Python 3",
   "language": "python",
   "name": "python3"
  },
  "language_info": {
   "codemirror_mode": {
    "name": "ipython",
    "version": 3
   },
   "file_extension": ".py",
   "mimetype": "text/x-python",
   "name": "python",
   "nbconvert_exporter": "python",
   "pygments_lexer": "ipython3",
   "version": "3.10.11"
  }
 },
 "nbformat": 4,
 "nbformat_minor": 2
}
